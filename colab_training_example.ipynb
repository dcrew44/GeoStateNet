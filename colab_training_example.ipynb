{
  "cells": [
    {
      "cell_type": "markdown",
      "metadata": {},
      "source": [
        "# 50States10K - State Classification Training\n",
        "\n",
        "This notebook runs the training pipeline for the state classification model using PyTorch."
      ]
    },
    {
      "cell_type": "code",
      "execution_count": null,
      "metadata": {},
      "source": [
        "# Check if running in Colab\n",
        "import sys\n",
        "IN_COLAB = 'google.colab' in sys.modules\n",
        "print(f\"Running in Colab: {IN_COLAB}\")\n",
        "\n",
        "if IN_COLAB:\n",
        "    # Install dependencies\n",
        "    !pip install wandb\n",
        "    !pip install tqdm\n",
        "    \n",
        "    # Download and run the setup script\n",
        "    !wget -O colab_setup.py https://raw.githubusercontent.com/yourusername/state-classifier/main/colab_setup.py\n",
        "    from colab_setup import setup_environment\n",
        "    \n",
        "    # Set up environment\n",
        "    repo_path = setup_environment(\n",
        "        github_repo=\"yourusername/state-classifier\",\n",
        "        branch=\"main\",\n",
        "        data_drive_path=\"/content/drive/MyDrive/50States10K\"\n",
        "    )"
      ]
    },
    {
      "cell_type": "code",
      "execution_count": null,
      "metadata": {},
      "source": [
        "# Import modules from the package\n",
        "from state_classifier.config.config_utils import load_config\n",
        "from state_classifier.experiment import Experiment\n",
        "\n",
        "# Check available GPUs\n",
        "import torch\n",
        "print(f\"CUDA available: {torch.cuda.is_available()}\")\n",
        "if torch.cuda.is_available():\n",
        "    print(f\"GPU: {torch.cuda.get_device_name(0)}\")\n",
        "    print(f\"Memory: {torch.cuda.get_device_properties(0).total_memory / 1e9:.2f} GB\")"
      ]
    },
    {
      "cell_type": "code",
      "execution_count": null,
      "metadata": {},
      "source": [
        "# Login to Weights & Biases\n",
        "import wandb\n",
        "wandb.login()"
      ]
    },
    {
      "cell_type": "code",
      "execution_count": null,
      "metadata": {},
      "source": [
        "# Load config and update paths\n",
        "import os\n",
        "\n",
        "# Define the path to the config file\n",
        "if IN_COLAB:\n",
        "    config_path = os.path.join(repo_path, \"config.yaml\")\n",
        "else:\n",
        "    config_path = \"config.yaml\"\n",
        "\n",
        "# Load and update config\n",
        "config = load_config(config_path)\n",
        "\n",
        "# Update paths if necessary\n",
        "if IN_COLAB and \"STATE_CLASSIFIER_DATA\" in os.environ:\n",
        "    data_path = os.environ[\"STATE_CLASSIFIER_DATA\"]\n",
        "    config.dataset_root = os.path.join(data_path, \"train\")\n",
        "    config.test_dataset_root = os.path.join(data_path, \"test\")\n",
        "    \n",
        "print(f\"Dataset path: {config.dataset_root}\")\n",
        "print(f\"Test dataset path: {config.test_dataset_root}\")"
      ]
    },
    {
      "cell_type": "code",
      "execution_count": null,
      "metadata": {},
      "source": [
        "# Create and run the experiment\n",
        "experiment = Experiment(config)\n",
        "\n",
        "# Initialize wandb\n",
        "wandb.init(\n",
        "    project=config.wandb.project,\n",
        "    name=f\"resnet101_{wandb.util.generate_id()}\"\n",
        ")\n",
        "\n",
        "# Train the model\n",
        "experiment.train()\n",
        "\n",
        "# Test the model\n",
        "experiment.test()\n",
        "\n",
        "# Close wandb\n",
        "wandb.finish()"
      ]
    }
  ],
  "metadata": {
    "accelerator": "GPU",
    "colab": {
      "name": "StateClassifier_Training.ipynb",
      "provenance": []
    },
    "kernelspec": {
      "display_name": "Python 3",
      "name": "python3"
    },
    "language_info": {
      "name": "python"
    }
  },
  "nbformat": 4,
  "nbformat_minor": 0
}
