{
  "cells": [
    {
      "cell_type": "code",
      "execution_count": null,
      "metadata": {
        "colab": {
          "base_uri": "https://localhost:8080/"
        },
        "id": "LDZupbXSOL-T",
        "outputId": "45a9219e-7a4f-4e2a-8463-3f9fc03f1ceb"
      },
      "outputs": [
        {
          "name": "stdout",
          "output_type": "stream",
          "text": [
            "Mounted at /content/drive\n",
            "Google Drive mounted.\n",
            "Cloning repository from https://github.com/dcrew44/geoguessr-state-classifier.git...\n",
            "Setup complete! The codebase is available in /geoguessr-state-classifier/\n"
          ]
        }
      ],
      "source": [
        "import os\n",
        "import sys\n",
        "import subprocess\n",
        "\n",
        "def setup_environment(\n",
        "    github_repo=\"dcrew44/GeoStateNet\",\n",
        "    branch=\"master\",\n",
        "    mount_drive=True\n",
        "):\n",
        "    # Mount Google Drive if requested\n",
        "    if mount_drive:\n",
        "        from google.colab import drive\n",
        "        drive.mount('/content/drive')\n",
        "        print(\"Google Drive mounted.\")\n",
        "\n",
        "    # Clone the repository\n",
        "    repo_url = f\"https://github.com/{github_repo}.git\"\n",
        "    repo_dir = github_repo.split(\"/\")[1]\n",
        "\n",
        "    if os.path.exists(repo_dir):\n",
        "        print(f\"Repository directory {repo_dir} already exists. Pulling latest changes...\")\n",
        "        os.chdir(repo_dir)\n",
        "        subprocess.run([\"git\", \"pull\", \"origin\", branch])\n",
        "        os.chdir(\"..\")\n",
        "    else:\n",
        "        print(f\"Cloning repository from {repo_url}...\")\n",
        "        subprocess.run([\"git\", \"clone\", \"-b\", branch, repo_url])\n",
        "\n",
        "    # Add the repository to Python path\n",
        "    repo_path = os.path.abspath(repo_dir)\n",
        "    if repo_path not in sys.path:\n",
        "        sys.path.insert(0, repo_path)\n",
        "\n",
        "    print(f\"Setup complete! The codebase is available in /{repo_dir}/\")\n",
        "    return repo_path\n",
        "\n",
        "# Run the setup to get repository path\n",
        "repo_path = setup_environment()\n"
      ]
    },
    {
      "cell_type": "code",
      "execution_count": null,
      "metadata": {
        "colab": {
          "base_uri": "https://localhost:8080/"
        },
        "collapsed": true,
        "id": "0fcuEz_5hS-q",
        "outputId": "3af9b0b6-6bf0-4e42-8334-22d227c788da"
      },
      "outputs": [
        {
          "name": "stdout",
          "output_type": "stream",
          "text": [
            "Extracting training data to /content/geoguessr-state-classifier/data/train...\n",
            "Training data extraction complete!\n",
            "Extracting test data to /content/geoguessr-state-classifier/data/test...\n",
            "Test data extraction complete!\n",
            "\n",
            "Data directory structure:\n",
            "find: warning: you have specified the global option -maxdepth after the argument -type, but global options are not positional, i.e., -maxdepth affects tests specified before it as well as those specified after it.  Please specify global options before other arguments.\n",
            "/content/geoguessr-state-classifier/data\n",
            "/content/geoguessr-state-classifier/data/test\n",
            "/content/geoguessr-state-classifier/data/test/test_data\n",
            "/content/geoguessr-state-classifier/data/test/test_data/Alabama\n",
            "/content/geoguessr-state-classifier/data/test/test_data/Alaska\n",
            "/content/geoguessr-state-classifier/data/test/test_data/Arizona\n",
            "/content/geoguessr-state-classifier/data/test/test_data/Arkansas\n",
            "/content/geoguessr-state-classifier/data/test/test_data/California\n",
            "/content/geoguessr-state-classifier/data/test/test_data/Colorado\n",
            "/content/geoguessr-state-classifier/data/test/test_data/Connecticut\n",
            "/content/geoguessr-state-classifier/data/test/test_data/Delaware\n",
            "/content/geoguessr-state-classifier/data/test/test_data/Florida\n",
            "/content/geoguessr-state-classifier/data/test/test_data/Georgia\n",
            "/content/geoguessr-state-classifier/data/test/test_data/Hawaii\n",
            "/content/geoguessr-state-classifier/data/test/test_data/Idaho\n",
            "/content/geoguessr-state-classifier/data/test/test_data/Illinois\n",
            "/content/geoguessr-state-classifier/data/test/test_data/Indiana\n",
            "/content/geoguessr-state-classifier/data/test/test_data/Iowa\n",
            "/content/geoguessr-state-classifier/data/test/test_data/Kansas\n",
            "/content/geoguessr-state-classifier/data/test/test_data/Kentucky\n",
            "/content/geoguessr-state-classifier/data/test/test_data/Louisiana\n",
            "/content/geoguessr-state-classifier/data/test/test_data/Maine\n",
            "/content/geoguessr-state-classifier/data/test/test_data/Maryland\n",
            "/content/geoguessr-state-classifier/data/test/test_data/Massachusetts\n",
            "/content/geoguessr-state-classifier/data/test/test_data/Michigan\n",
            "/content/geoguessr-state-classifier/data/test/test_data/Minnesota\n",
            "/content/geoguessr-state-classifier/data/test/test_data/Mississippi\n",
            "/content/geoguessr-state-classifier/data/test/test_data/Missouri\n",
            "/content/geoguessr-state-classifier/data/test/test_data/Montana\n",
            "/content/geoguessr-state-classifier/data/test/test_data/Nebraska\n",
            "/content/geoguessr-state-classifier/data/test/test_data/Nevada\n",
            "/content/geoguessr-state-classifier/data/test/test_data/New Hampshire\n",
            "/content/geoguessr-state-classifier/data/test/test_data/New Jersey\n",
            "/content/geoguessr-state-classifier/data/test/test_data/New Mexico\n",
            "/content/geoguessr-state-classifier/data/test/test_data/New York\n",
            "/content/geoguessr-state-classifier/data/test/test_data/North Carolina\n",
            "/content/geoguessr-state-classifier/data/test/test_data/North Dakota\n",
            "/content/geoguessr-state-classifier/data/test/test_data/Ohio\n",
            "/content/geoguessr-state-classifier/data/test/test_data/Oklahoma\n",
            "/content/geoguessr-state-classifier/data/test/test_data/Oregon\n",
            "/content/geoguessr-state-classifier/data/test/test_data/Pennsylvania\n",
            "/content/geoguessr-state-classifier/data/test/test_data/Rhode Island\n",
            "/content/geoguessr-state-classifier/data/test/test_data/South Carolina\n",
            "/content/geoguessr-state-classifier/data/test/test_data/South Dakota\n",
            "/content/geoguessr-state-classifier/data/test/test_data/Tennessee\n",
            "/content/geoguessr-state-classifier/data/test/test_data/Texas\n",
            "/content/geoguessr-state-classifier/data/test/test_data/Utah\n",
            "/content/geoguessr-state-classifier/data/test/test_data/Vermont\n",
            "/content/geoguessr-state-classifier/data/test/test_data/Virginia\n",
            "/content/geoguessr-state-classifier/data/test/test_data/Washington\n",
            "/content/geoguessr-state-classifier/data/test/test_data/West Virginia\n",
            "/content/geoguessr-state-classifier/data/test/test_data/Wisconsin\n",
            "/content/geoguessr-state-classifier/data/test/test_data/Wyoming\n",
            "/content/geoguessr-state-classifier/data/train\n",
            "/content/geoguessr-state-classifier/data/train/Alabama\n",
            "/content/geoguessr-state-classifier/data/train/Alaska\n",
            "/content/geoguessr-state-classifier/data/train/Arizona\n",
            "/content/geoguessr-state-classifier/data/train/Arkansas\n",
            "/content/geoguessr-state-classifier/data/train/California\n",
            "/content/geoguessr-state-classifier/data/train/Colorado\n",
            "/content/geoguessr-state-classifier/data/train/Connecticut\n",
            "/content/geoguessr-state-classifier/data/train/Delaware\n",
            "/content/geoguessr-state-classifier/data/train/Florida\n",
            "/content/geoguessr-state-classifier/data/train/Georgia\n",
            "/content/geoguessr-state-classifier/data/train/Hawaii\n",
            "/content/geoguessr-state-classifier/data/train/Idaho\n",
            "/content/geoguessr-state-classifier/data/train/Illinois\n",
            "/content/geoguessr-state-classifier/data/train/Indiana\n",
            "/content/geoguessr-state-classifier/data/train/Iowa\n",
            "/content/geoguessr-state-classifier/data/train/Kansas\n",
            "/content/geoguessr-state-classifier/data/train/Kentucky\n",
            "/content/geoguessr-state-classifier/data/train/Louisiana\n",
            "/content/geoguessr-state-classifier/data/train/Maine\n",
            "/content/geoguessr-state-classifier/data/train/Maryland\n",
            "/content/geoguessr-state-classifier/data/train/Massachusetts\n",
            "/content/geoguessr-state-classifier/data/train/Michigan\n",
            "/content/geoguessr-state-classifier/data/train/Minnesota\n",
            "/content/geoguessr-state-classifier/data/train/Mississippi\n",
            "/content/geoguessr-state-classifier/data/train/Missouri\n",
            "/content/geoguessr-state-classifier/data/train/Montana\n",
            "/content/geoguessr-state-classifier/data/train/Nebraska\n",
            "/content/geoguessr-state-classifier/data/train/Nevada\n",
            "/content/geoguessr-state-classifier/data/train/New Hampshire\n",
            "/content/geoguessr-state-classifier/data/train/New Jersey\n",
            "/content/geoguessr-state-classifier/data/train/New Mexico\n",
            "/content/geoguessr-state-classifier/data/train/New York\n",
            "/content/geoguessr-state-classifier/data/train/North Carolina\n",
            "/content/geoguessr-state-classifier/data/train/North Dakota\n",
            "/content/geoguessr-state-classifier/data/train/Ohio\n",
            "/content/geoguessr-state-classifier/data/train/Oklahoma\n",
            "/content/geoguessr-state-classifier/data/train/Oregon\n",
            "/content/geoguessr-state-classifier/data/train/Pennsylvania\n",
            "/content/geoguessr-state-classifier/data/train/Rhode Island\n",
            "/content/geoguessr-state-classifier/data/train/South Carolina\n",
            "/content/geoguessr-state-classifier/data/train/South Dakota\n",
            "/content/geoguessr-state-classifier/data/train/Tennessee\n",
            "/content/geoguessr-state-classifier/data/train/Texas\n",
            "/content/geoguessr-state-classifier/data/train/Utah\n",
            "/content/geoguessr-state-classifier/data/train/Vermont\n",
            "/content/geoguessr-state-classifier/data/train/Virginia\n",
            "/content/geoguessr-state-classifier/data/train/Washington\n",
            "/content/geoguessr-state-classifier/data/train/West Virginia\n",
            "/content/geoguessr-state-classifier/data/train/Wisconsin\n",
            "/content/geoguessr-state-classifier/data/train/Wyoming\n"
          ]
        }
      ],
      "source": [
        "import zipfile\n",
        "import os\n",
        "\n",
        "# Create data directories in the project\n",
        "train_dir = os.path.join(repo_path, \"data\", \"train\")\n",
        "test_dir = os.path.join(repo_path, \"data\", \"test\")\n",
        "\n",
        "\n",
        "# Create directories if they don't exist\n",
        "os.makedirs(train_dir, exist_ok=True)\n",
        "os.makedirs(test_dir, exist_ok=True)\n",
        "\n",
        "print(f\"Extracting training data to {train_dir}...\")\n",
        "zip_ref = zipfile.ZipFile(\"/path/to/dataset/zipfile\")\n",
        "zip_ref.extractall(train_dir)\n",
        "zip_ref.close()\n",
        "print(\"Training data extraction complete!\")\n",
        "\n",
        "print(f\"Extracting test data to {test_dir}...\")\n",
        "zip_ref = zipfile.ZipFile(\"/path/to/testdataset/zipfile\")\n",
        "zip_ref.extractall(test_dir)\n",
        "zip_ref.close()\n",
        "print(\"Test data extraction complete!\")\n",
        "\n",
        "# Print structure to verify\n",
        "print(\"\\nData directory structure:\")\n",
        "!find {repo_path}/data -type d -maxdepth 3 | sort"
      ]
    },
    {
      "cell_type": "code",
      "execution_count": null,
      "metadata": {
        "colab": {
          "base_uri": "https://localhost:8080/"
        },
        "id": "bnQ-DkrhPOq4",
        "outputId": "dd370626-2c7d-4244-8d3f-8a96ead7ce8e"
      },
      "outputs": [
        {
          "name": "stdout",
          "output_type": "stream",
          "text": [
            "CUDA available: True\n",
            "GPU: NVIDIA A100-SXM4-40GB\n",
            "Memory: 42.47 GB\n",
            "Using config from: /content/geoguessr-state-classifier/config.yaml\n",
            "Configuration updated with correct paths:\n",
            "- Training data: /content/geoguessr-state-classifier/data/train\n",
            "- Test data: /content/geoguessr-state-classifier/data/test/test_data\n",
            "- Checkpoints: /content/geoguessr-state-classifier/checkpoints\n"
          ]
        }
      ],
      "source": [
        "# Check for GPU\n",
        "import torch\n",
        "print(f\"CUDA available: {torch.cuda.is_available()}\")\n",
        "if torch.cuda.is_available():\n",
        "    print(f\"GPU: {torch.cuda.get_device_name(0)}\")\n",
        "    print(f\"Memory: {torch.cuda.get_device_properties(0).total_memory / 1e9:.2f} GB\")\n",
        "\n",
        "# Create config paths\n",
        "config_path = os.path.join(repo_path, \"config.yaml\")\n",
        "\n",
        "# Check if config exists\n",
        "if os.path.exists(config_path):\n",
        "    print(f\"Using config from: {config_path}\")\n",
        "    # Import config modules (adjust import paths based on your structure)\n",
        "    try:\n",
        "        # Try to load configuration using your modules\n",
        "        from state_classifier.config import load_config\n",
        "\n",
        "        config = load_config(config_path)\n",
        "        config.batch_size = 256\n",
        "        config.num_workers = 12\n",
        "        config.prefetch_factor = 4\n",
        "\n",
        "        config.hyperparameters.phase1_epochs = 1\n",
        "        config.hyperparameters.phase1_lr = 0.01\n",
        "\n",
        "        config.hyperparameters.phase2_epochs = 1\n",
        "        config.hyperparameters.phase2_lr = 0.004\n",
        "\n",
        "        config.hyperparameters.phase3_lr = 0.001\n",
        "        config.hyperparameters.phase3_epochs = 3\n",
        "\n",
        "        config.train_phases.start_phase = 1\n",
        "        config.train_phases.phase1 = True\n",
        "        config.train_phases.phase2 = True\n",
        "        config.train_phases.phase3 = True\n",
        "\n",
        "        config.hyperparameters.patience = 2\n",
        "        config.hyperparameters.weight_decay = 0.01\n",
        "\n",
        "        # Update paths to use the extracted data\n",
        "        config.dataset_root = os.path.join(repo_path, \"data\", \"train\")\n",
        "        config.test_dataset_root = os.path.join(repo_path, \"data\", \"test\",\"test_data\")\n",
        "        config.checkpoints_dir = os.path.join(repo_path, \"checkpoints\")\n",
        "\n",
        "        # Ensure checkpoints directory exists\n",
        "        os.makedirs(config.checkpoints_dir, exist_ok=True)\n",
        "\n",
        "        print(\"Configuration updated with correct paths:\")\n",
        "        print(f\"- Training data: {config.dataset_root}\")\n",
        "        print(f\"- Test data: {config.test_dataset_root}\")\n",
        "        print(f\"- Checkpoints: {config.checkpoints_dir}\")\n",
        "    except ImportError as e:\n",
        "        print(f\"Could not import configuration module: {e}\")\n",
        "        print(\"You may need to adjust the import paths based on your project structure.\")\n",
        "else:\n",
        "    print(f\"Config file not found at {config_path}\")\n",
        "    print(\"You may need to create a config file first.\")"
      ]
    },
    {
      "cell_type": "code",
      "execution_count": null,
      "metadata": {
        "colab": {
          "base_uri": "https://localhost:8080/",
          "height": 1000
        },
        "collapsed": true,
        "id": "dWCOTryXPlQn",
        "outputId": "94495438-4a9a-4eb9-b615-0a04024fe848"
      },
      "outputs": [
        {
          "data": {
            "text/html": [
              "Tracking run with wandb version 0.19.9"
            ],
            "text/plain": [
              "<IPython.core.display.HTML object>"
            ]
          },
          "metadata": {},
          "output_type": "display_data"
        },
        {
          "data": {
            "text/html": [
              "Run data is saved locally in <code>/content/wandb/run-20250414_020640-v3zlv6xj</code>"
            ],
            "text/plain": [
              "<IPython.core.display.HTML object>"
            ]
          },
          "metadata": {},
          "output_type": "display_data"
        },
        {
          "data": {
            "text/html": [
              "Syncing run <strong><a href='https://wandb.ai/haydenbarolette-university-of-redlands/state-classifier/runs/v3zlv6xj' target=\"_blank\">fragrant-shape-80</a></strong> to <a href='https://wandb.ai/haydenbarolette-university-of-redlands/state-classifier' target=\"_blank\">Weights & Biases</a> (<a href='https://wandb.me/developer-guide' target=\"_blank\">docs</a>)<br>"
            ],
            "text/plain": [
              "<IPython.core.display.HTML object>"
            ]
          },
          "metadata": {},
          "output_type": "display_data"
        },
        {
          "data": {
            "text/html": [
              " View project at <a href='https://wandb.ai/haydenbarolette-university-of-redlands/state-classifier' target=\"_blank\">https://wandb.ai/haydenbarolette-university-of-redlands/state-classifier</a>"
            ],
            "text/plain": [
              "<IPython.core.display.HTML object>"
            ]
          },
          "metadata": {},
          "output_type": "display_data"
        },
        {
          "data": {
            "text/html": [
              " View run at <a href='https://wandb.ai/haydenbarolette-university-of-redlands/state-classifier/runs/v3zlv6xj' target=\"_blank\">https://wandb.ai/haydenbarolette-university-of-redlands/state-classifier/runs/v3zlv6xj</a>"
            ],
            "text/plain": [
              "<IPython.core.display.HTML object>"
            ]
          },
          "metadata": {},
          "output_type": "display_data"
        },
        {
          "name": "stdout",
          "output_type": "stream",
          "text": [
            "=== Phase 1 ===\n"
          ]
        },
        {
          "name": "stderr",
          "output_type": "stream",
          "text": [
            "Training [1]: 100%|██████████| 1758/1758 [07:02<00:00,  4.16it/s]\n"
          ]
        },
        {
          "name": "stdout",
          "output_type": "stream",
          "text": [
            "Train Loss: 3.2578, Train Acc: 21.09%\n"
          ]
        },
        {
          "name": "stderr",
          "output_type": "stream",
          "text": [
            "Validating [1]: 100%|██████████| 196/196 [00:38<00:00,  5.13it/s]\n"
          ]
        },
        {
          "name": "stdout",
          "output_type": "stream",
          "text": [
            "Val Loss: 2.7729, Val Acc: 32.29%\n",
            "Loaded best Phase 1 weights.\n",
            "=== Phase 2 ===\n"
          ]
        },
        {
          "name": "stderr",
          "output_type": "stream",
          "text": [
            "Training [1]: 100%|██████████| 1758/1758 [07:13<00:00,  4.06it/s]\n"
          ]
        },
        {
          "name": "stdout",
          "output_type": "stream",
          "text": [
            "Train Loss: 2.5870, Train Acc: 37.04%\n"
          ]
        },
        {
          "name": "stderr",
          "output_type": "stream",
          "text": [
            "\rValidating [1]:   0%|          | 0/196 [00:00<?, ?it/s]\u001b[34m\u001b[1mwandb\u001b[0m: \u001b[33mWARNING\u001b[0m Tried to log to step 0 that is less than the current step 1. Steps must be monotonically increasing, so this data will be ignored. See https://wandb.me/define-metric to log data out of order.\n",
            "\u001b[34m\u001b[1mwandb\u001b[0m: \u001b[33mWARNING\u001b[0m Tried to log to step 0 that is less than the current step 1. Steps must be monotonically increasing, so this data will be ignored. See https://wandb.me/define-metric to log data out of order.\n",
            "Validating [1]: 100%|██████████| 196/196 [00:38<00:00,  5.15it/s]\n"
          ]
        },
        {
          "name": "stdout",
          "output_type": "stream",
          "text": [
            "Val Loss: 2.3174, Val Acc: 45.47%\n",
            "Loaded best Phase 2 weights.\n",
            "=== Phase 3 ===\n"
          ]
        },
        {
          "name": "stderr",
          "output_type": "stream",
          "text": [
            "Training [1]:   0%|          | 0/1758 [00:00<?, ?it/s]\u001b[34m\u001b[1mwandb\u001b[0m: \u001b[33mWARNING\u001b[0m Tried to log to step 0 that is less than the current step 1. Steps must be monotonically increasing, so this data will be ignored. See https://wandb.me/define-metric to log data out of order.\n",
            "Training [1]: 100%|██████████| 1758/1758 [08:11<00:00,  3.58it/s]\n"
          ]
        },
        {
          "name": "stdout",
          "output_type": "stream",
          "text": [
            "Train Loss: 2.2211, Train Acc: 48.74%\n"
          ]
        },
        {
          "name": "stderr",
          "output_type": "stream",
          "text": [
            "Validating [1]:  14%|█▍        | 27/196 [00:08<00:46,  3.60it/s]\u001b[34m\u001b[1mwandb\u001b[0m: \u001b[33mWARNING\u001b[0m Tried to log to step 0 that is less than the current step 1. Steps must be monotonically increasing, so this data will be ignored. See https://wandb.me/define-metric to log data out of order.\n",
            "\u001b[34m\u001b[1mwandb\u001b[0m: \u001b[33mWARNING\u001b[0m Tried to log to step 0 that is less than the current step 1. Steps must be monotonically increasing, so this data will be ignored. See https://wandb.me/define-metric to log data out of order.\n",
            "Validating [1]: 100%|██████████| 196/196 [00:38<00:00,  5.12it/s]\n"
          ]
        },
        {
          "name": "stdout",
          "output_type": "stream",
          "text": [
            "Val Loss: 2.1789, Val Acc: 49.73%\n"
          ]
        },
        {
          "name": "stderr",
          "output_type": "stream",
          "text": [
            "\u001b[34m\u001b[1mwandb\u001b[0m: \u001b[33mWARNING\u001b[0m Tried to log to step 0 that is less than the current step 1. Steps must be monotonically increasing, so this data will be ignored. See https://wandb.me/define-metric to log data out of order.\n",
            "Training [2]: 100%|██████████| 1758/1758 [08:12<00:00,  3.57it/s]\n"
          ]
        },
        {
          "name": "stdout",
          "output_type": "stream",
          "text": [
            "Train Loss: 1.9549, Train Acc: 57.89%\n"
          ]
        },
        {
          "name": "stderr",
          "output_type": "stream",
          "text": [
            "Validating [2]: 100%|██████████| 196/196 [00:38<00:00,  5.12it/s]\n"
          ]
        },
        {
          "name": "stdout",
          "output_type": "stream",
          "text": [
            "Val Loss: 2.0726, Val Acc: 53.15%\n"
          ]
        },
        {
          "name": "stderr",
          "output_type": "stream",
          "text": [
            "Training [3]: 100%|██████████| 1758/1758 [08:10<00:00,  3.58it/s]\n"
          ]
        },
        {
          "name": "stdout",
          "output_type": "stream",
          "text": [
            "Train Loss: 1.5849, Train Acc: 72.08%\n"
          ]
        },
        {
          "name": "stderr",
          "output_type": "stream",
          "text": [
            "Validating [3]: 100%|██████████| 196/196 [00:38<00:00,  5.12it/s]\n"
          ]
        },
        {
          "name": "stdout",
          "output_type": "stream",
          "text": [
            "Val Loss: 2.1007, Val Acc: 52.85%\n",
            "Loaded best Phase 3 weights.\n"
          ]
        },
        {
          "name": "stderr",
          "output_type": "stream",
          "text": [
            "Testing: 100%|██████████| 1563/1563 [01:20<00:00, 19.45it/s]\n"
          ]
        },
        {
          "name": "stdout",
          "output_type": "stream",
          "text": [
            "Test Accuracy: 0.6763\n"
          ]
        },
        {
          "data": {
            "text/html": [],
            "text/plain": [
              "<IPython.core.display.HTML object>"
            ]
          },
          "metadata": {},
          "output_type": "display_data"
        },
        {
          "data": {
            "text/html": [
              "<br>    <style><br>        .wandb-row {<br>            display: flex;<br>            flex-direction: row;<br>            flex-wrap: wrap;<br>            justify-content: flex-start;<br>            width: 100%;<br>        }<br>        .wandb-col {<br>            display: flex;<br>            flex-direction: column;<br>            flex-basis: 100%;<br>            flex: 1;<br>            padding: 10px;<br>        }<br>    </style><br><div class=\"wandb-row\"><div class=\"wandb-col\"><h3>Run history:</h3><br/><table class=\"wandb\"><tr><td>test/accuracy</td><td>▁</td></tr><tr><td>train/accuracy</td><td>▁▆█</td></tr><tr><td>train/loss</td><td>█▃▁</td></tr><tr><td>train/lr</td><td>▁█▁</td></tr><tr><td>val/accuracy</td><td>▁██</td></tr><tr><td>val/loss</td><td>█▁▁</td></tr></table><br/></div><div class=\"wandb-col\"><h3>Run summary:</h3><br/><table class=\"wandb\"><tr><td>test/accuracy</td><td>0.67629</td></tr><tr><td>train/accuracy</td><td>72.07648</td></tr><tr><td>train/loss</td><td>1.58489</td></tr><tr><td>train/lr</td><td>0.0</td></tr><tr><td>val/accuracy</td><td>52.85271</td></tr><tr><td>val/loss</td><td>2.10075</td></tr></table><br/></div></div>"
            ],
            "text/plain": [
              "<IPython.core.display.HTML object>"
            ]
          },
          "metadata": {},
          "output_type": "display_data"
        },
        {
          "data": {
            "text/html": [
              " View run <strong style=\"color:#cdcd00\">fragrant-shape-80</strong> at: <a href='https://wandb.ai/haydenbarolette-university-of-redlands/state-classifier/runs/v3zlv6xj' target=\"_blank\">https://wandb.ai/haydenbarolette-university-of-redlands/state-classifier/runs/v3zlv6xj</a><br> View project at: <a href='https://wandb.ai/haydenbarolette-university-of-redlands/state-classifier' target=\"_blank\">https://wandb.ai/haydenbarolette-university-of-redlands/state-classifier</a><br>Synced 5 W&B file(s), 26 media file(s), 12 artifact file(s) and 0 other file(s)"
            ],
            "text/plain": [
              "<IPython.core.display.HTML object>"
            ]
          },
          "metadata": {},
          "output_type": "display_data"
        },
        {
          "data": {
            "text/html": [
              "Find logs at: <code>./wandb/run-20250414_020640-v3zlv6xj/logs</code>"
            ],
            "text/plain": [
              "<IPython.core.display.HTML object>"
            ]
          },
          "metadata": {},
          "output_type": "display_data"
        }
      ],
      "source": [
        "import wandb\n",
        "\n",
        "# Create and run experiment\n",
        "try:\n",
        "    from state_classifier.experiment import Experiment\n",
        "    experiment = Experiment(config)\n",
        "    experiment.run()\n",
        "\n",
        "except ImportError as e:\n",
        "    print(f\"Could not import experiment module: {e}\")\n",
        "    print(\"You may need to adjust the import paths based on your project structure.\")\n",
        "\n",
        "# Finish W&B run\n",
        "wandb.finish()"
      ]
    }
  ],
  "metadata": {
    "accelerator": "GPU",
    "colab": {
      "gpuType": "A100",
      "machine_shape": "hm",
      "provenance": []
    },
    "kernelspec": {
      "display_name": "Python 3",
      "name": "python3"
    },
    "language_info": {
      "name": "python"
    }
  },
  "nbformat": 4,
  "nbformat_minor": 0
}
